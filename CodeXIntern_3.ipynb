{
 "cells": [
  {
   "cell_type": "code",
   "execution_count": 2,
   "id": "d8cbdca4-1e62-4c69-8eb6-9be69604c654",
   "metadata": {},
   "outputs": [
    {
     "name": "stdout",
     "output_type": "stream",
     "text": [
      "Collecting textblob\n",
      "  Using cached textblob-0.18.0.post0-py3-none-any.whl.metadata (4.5 kB)\n",
      "Requirement already satisfied: nltk>=3.8 in /opt/anaconda3/lib/python3.12/site-packages (from textblob) (3.8.1)\n",
      "Requirement already satisfied: click in /opt/anaconda3/lib/python3.12/site-packages (from nltk>=3.8->textblob) (8.1.7)\n",
      "Requirement already satisfied: joblib in /opt/anaconda3/lib/python3.12/site-packages (from nltk>=3.8->textblob) (1.4.2)\n",
      "Requirement already satisfied: regex>=2021.8.3 in /opt/anaconda3/lib/python3.12/site-packages (from nltk>=3.8->textblob) (2023.10.3)\n",
      "Requirement already satisfied: tqdm in /opt/anaconda3/lib/python3.12/site-packages (from nltk>=3.8->textblob) (4.66.4)\n",
      "Using cached textblob-0.18.0.post0-py3-none-any.whl (626 kB)\n",
      "Installing collected packages: textblob\n",
      "Successfully installed textblob-0.18.0.post0\n",
      "Note: you may need to restart the kernel to use updated packages.\n"
     ]
    }
   ],
   "source": [
    "pip install textblob"
   ]
  },
  {
   "cell_type": "code",
   "execution_count": 6,
   "id": "97169f7f-d4b2-448c-9c53-e7eb3fcbd017",
   "metadata": {},
   "outputs": [
    {
     "name": "stdout",
     "output_type": "stream",
     "text": [
      "Sentiment Detection Analyzer\n",
      "==============================\n"
     ]
    },
    {
     "name": "stdin",
     "output_type": "stream",
     "text": [
      "Enter text to analyze sentiment (or type 'exit' to quit):  I love this product!\n"
     ]
    },
    {
     "name": "stdout",
     "output_type": "stream",
     "text": [
      "\n",
      "Sentiment Analysis Results:\n",
      "Sentiment: Positive\n",
      "Polarity: 0.625\n",
      "Subjectivity: 0.6\n",
      "\n"
     ]
    },
    {
     "name": "stdin",
     "output_type": "stream",
     "text": [
      "Enter text to analyze sentiment (or type 'exit' to quit):  This is the worst experience ever.\n"
     ]
    },
    {
     "name": "stdout",
     "output_type": "stream",
     "text": [
      "\n",
      "Sentiment Analysis Results:\n",
      "Sentiment: Negative\n",
      "Polarity: -1.0\n",
      "Subjectivity: 1.0\n",
      "\n"
     ]
    },
    {
     "name": "stdin",
     "output_type": "stream",
     "text": [
      "Enter text to analyze sentiment (or type 'exit' to quit):  It was okay, nothing special.\n"
     ]
    },
    {
     "name": "stdout",
     "output_type": "stream",
     "text": [
      "\n",
      "Sentiment Analysis Results:\n",
      "Sentiment: Positive\n",
      "Polarity: 0.4285714285714286\n",
      "Subjectivity: 0.5357142857142857\n",
      "\n"
     ]
    },
    {
     "name": "stdin",
     "output_type": "stream",
     "text": [
      "Enter text to analyze sentiment (or type 'exit' to quit):  exit\n"
     ]
    },
    {
     "name": "stdout",
     "output_type": "stream",
     "text": [
      "Thank you for using the Sentiment Detection Analyzer!\n"
     ]
    }
   ],
   "source": [
    "from textblob import TextBlob\n",
    "\n",
    "def sentiment_analysis():\n",
    "    print(\"Sentiment Detection Analyzer\")\n",
    "    print(\"=\" * 30)\n",
    "    \n",
    "    # Input text from the user\n",
    "    user_input = input(\"Enter text to analyze sentiment (or type 'exit' to quit): \")\n",
    "    \n",
    "    while user_input.lower() != 'exit':\n",
    "        # Analyze sentiment\n",
    "        blob = TextBlob(user_input)\n",
    "        polarity = blob.sentiment.polarity\n",
    "        subjectivity = blob.sentiment.subjectivity\n",
    "        \n",
    "        # Classify sentiment\n",
    "        if polarity > 0:\n",
    "            sentiment = \"Positive\"\n",
    "        elif polarity < 0:\n",
    "            sentiment = \"Negative\"\n",
    "        else:\n",
    "            sentiment = \"Neutral\"\n",
    "        \n",
    "        # Output results\n",
    "        print(\"\\nSentiment Analysis Results:\")\n",
    "        print(f\"Sentiment: {sentiment}\")\n",
    "        print(f\"Polarity: {polarity}\")\n",
    "        print(f\"Subjectivity: {subjectivity}\\n\")\n",
    "        \n",
    "        # Ask for next input\n",
    "        user_input = input(\"Enter text to analyze sentiment (or type 'exit' to quit): \")\n",
    "\n",
    "    print(\"Thank you for using the Sentiment Detection Analyzer!\")\n",
    "\n",
    "# Run the analyzer\n",
    "sentiment_analysis()"
   ]
  },
  {
   "cell_type": "code",
   "execution_count": null,
   "id": "0c67dfd6-a2bd-4111-8ba7-6ddb0b1c23ce",
   "metadata": {},
   "outputs": [
    {
     "name": "stdout",
     "output_type": "stream",
     "text": [
      "Advanced Sentiment Detection Analyzer\n",
      "========================================\n",
      "\n",
      "Options:\n",
      "1. Analyze a single text\n",
      "2. Analyze multiple texts in batch\n",
      "3. View results summary\n",
      "4. Save results to file\n",
      "5. Plot polarity scores\n",
      "6. Exit\n"
     ]
    },
    {
     "name": "stdin",
     "output_type": "stream",
     "text": [
      "Choose an option (1-6):  1\n",
      "Enter the text to analyze:  This product is amazing!\n"
     ]
    },
    {
     "name": "stdout",
     "output_type": "stream",
     "text": [
      "Sentiment: Positive, Polarity: 0.75, Subjectivity: 0.90\n",
      "\n",
      "Options:\n",
      "1. Analyze a single text\n",
      "2. Analyze multiple texts in batch\n",
      "3. View results summary\n",
      "4. Save results to file\n",
      "5. Plot polarity scores\n",
      "6. Exit\n"
     ]
    },
    {
     "name": "stdin",
     "output_type": "stream",
     "text": [
      "Choose an option (1-6):  2\n"
     ]
    },
    {
     "name": "stdout",
     "output_type": "stream",
     "text": [
      "Enter multiple texts (type 'done' to finish):\n"
     ]
    },
    {
     "name": "stdin",
     "output_type": "stream",
     "text": [
      " I love this product!\n"
     ]
    },
    {
     "name": "stdout",
     "output_type": "stream",
     "text": [
      "Added: Sentiment: Positive, Polarity: 0.62, Subjectivity: 0.60\n"
     ]
    },
    {
     "name": "stdin",
     "output_type": "stream",
     "text": [
      " The service was terrible.\n"
     ]
    },
    {
     "name": "stdout",
     "output_type": "stream",
     "text": [
      "Added: Sentiment: Negative, Polarity: -1.00, Subjectivity: 1.00\n"
     ]
    },
    {
     "name": "stdin",
     "output_type": "stream",
     "text": [
      " It's just okay, nothing special.\n"
     ]
    },
    {
     "name": "stdout",
     "output_type": "stream",
     "text": [
      "Added: Sentiment: Positive, Polarity: 0.43, Subjectivity: 0.54\n"
     ]
    },
    {
     "name": "stdin",
     "output_type": "stream",
     "text": [
      " done\n"
     ]
    },
    {
     "name": "stdout",
     "output_type": "stream",
     "text": [
      "\n",
      "Options:\n",
      "1. Analyze a single text\n",
      "2. Analyze multiple texts in batch\n",
      "3. View results summary\n",
      "4. Save results to file\n",
      "5. Plot polarity scores\n",
      "6. Exit\n"
     ]
    }
   ],
   "source": [
    "from textblob import TextBlob\n",
    "import matplotlib.pyplot as plt\n",
    "import os\n",
    "\n",
    "def analyze_sentiment(text):\n",
    "    \"\"\"Analyzes the sentiment of the given text and returns a detailed result.\"\"\"\n",
    "    blob = TextBlob(text)\n",
    "    polarity = blob.sentiment.polarity\n",
    "    subjectivity = blob.sentiment.subjectivity\n",
    "    sentiment = \"Positive\" if polarity > 0 else \"Negative\" if polarity < 0 else \"Neutral\"\n",
    "    return sentiment, polarity, subjectivity\n",
    "\n",
    "def save_results_to_file(results, file_name=\"sentiment_analysis_log.txt\"):\n",
    "    \"\"\"Saves the sentiment analysis results to a log file.\"\"\"\n",
    "    with open(file_name, 'w') as file:\n",
    "        for idx, result in enumerate(results, start=1):\n",
    "            file.write(f\"Text {idx}:\\n\")\n",
    "            file.write(f\"Original Text: {result['text']}\\n\")\n",
    "            file.write(f\"Sentiment: {result['sentiment']}\\n\")\n",
    "            file.write(f\"Polarity: {result['polarity']:.2f}\\n\")\n",
    "            file.write(f\"Subjectivity: {result['subjectivity']:.2f}\\n\")\n",
    "            file.write(\"-\" * 40 + \"\\n\")\n",
    "    print(f\"Results saved to {file_name}\")\n",
    "\n",
    "def plot_polarity_scores(results):\n",
    "    \"\"\"Plots a graphical summary of polarity scores.\"\"\"\n",
    "    texts = [f\"Text {i+1}\" for i in range(len(results))]\n",
    "    polarity_scores = [result['polarity'] for result in results]\n",
    "    \n",
    "    plt.figure(figsize=(10, 6))\n",
    "    plt.bar(texts, polarity_scores, color=['green' if p > 0 else 'red' if p < 0 else 'blue' for p in polarity_scores])\n",
    "    plt.axhline(0, color='black', linewidth=0.8, linestyle='--')\n",
    "    plt.title(\"Sentiment Polarity Scores\", fontsize=16)\n",
    "    plt.xlabel(\"Text\", fontsize=12)\n",
    "    plt.ylabel(\"Polarity Score\", fontsize=12)\n",
    "    plt.xticks(rotation=45)\n",
    "    plt.tight_layout()\n",
    "    plt.show()\n",
    "\n",
    "def sentiment_detection_analyzer():\n",
    "    print(\"Advanced Sentiment Detection Analyzer\")\n",
    "    print(\"=\" * 40)\n",
    "    \n",
    "    results = []\n",
    "    while True:\n",
    "        print(\"\\nOptions:\")\n",
    "        print(\"1. Analyze a single text\")\n",
    "        print(\"2. Analyze multiple texts in batch\")\n",
    "        print(\"3. View results summary\")\n",
    "        print(\"4. Save results to file\")\n",
    "        print(\"5. Plot polarity scores\")\n",
    "        print(\"6. Exit\")\n",
    "        \n",
    "        choice = input(\"Choose an option (1-6): \").strip()\n",
    "        if choice == \"1\":\n",
    "            text = input(\"Enter the text to analyze: \").strip()\n",
    "            sentiment, polarity, subjectivity = analyze_sentiment(text)\n",
    "            results.append({\"text\": text, \"sentiment\": sentiment, \"polarity\": polarity, \"subjectivity\": subjectivity})\n",
    "            print(f\"Sentiment: {sentiment}, Polarity: {polarity:.2f}, Subjectivity: {subjectivity:.2f}\")\n",
    "        \n",
    "        elif choice == \"2\":\n",
    "            print(\"Enter multiple texts (type 'done' to finish):\")\n",
    "            while True:\n",
    "                text = input().strip()\n",
    "                if text.lower() == \"done\":\n",
    "                    break\n",
    "                sentiment, polarity, subjectivity = analyze_sentiment(text)\n",
    "                results.append({\"text\": text, \"sentiment\": sentiment, \"polarity\": polarity, \"subjectivity\": subjectivity})\n",
    "                print(f\"Added: Sentiment: {sentiment}, Polarity: {polarity:.2f}, Subjectivity: {subjectivity:.2f}\")\n",
    "        \n",
    "        elif choice == \"3\":\n",
    "            if results:\n",
    "                print(\"\\nResults Summary:\")\n",
    "                for idx, result in enumerate(results, start=1):\n",
    "                    print(f\"Text {idx}: {result['text']}\")\n",
    "                    print(f\"Sentiment: {result['sentiment']}, Polarity: {result['polarity']:.2f}, Subjectivity: {result['subjectivity']:.2f}\")\n",
    "                    print(\"-\" * 40)\n",
    "            else:\n",
    "                print(\"No results to display. Please analyze some text first.\")\n",
    "        \n",
    "        elif choice == \"4\":\n",
    "            if results:\n",
    "                save_results_to_file(results)\n",
    "            else:\n",
    "                print(\"No results to save. Please analyze some text first.\")\n",
    "        \n",
    "        elif choice == \"5\":\n",
    "            if results:\n",
    "                plot_polarity_scores(results)\n",
    "            else:\n",
    "                print(\"No results to plot. Please analyze some text first.\")\n",
    "        \n",
    "        elif choice == \"6\":\n",
    "            print(\"Exiting the analyzer. Thank you!\")\n",
    "            break\n",
    "        else:\n",
    "            print(\"Invalid option. Please try again.\")\n",
    "\n",
    "# Run the advanced analyzer\n",
    "if __name__ == \"__main__\":\n",
    "    sentiment_detection_analyzer()\n"
   ]
  },
  {
   "cell_type": "code",
   "execution_count": null,
   "id": "5635e46e-60a2-41e5-a273-9f41fd9bd8e8",
   "metadata": {},
   "outputs": [],
   "source": []
  }
 ],
 "metadata": {
  "kernelspec": {
   "display_name": "Python 3 (ipykernel)",
   "language": "python",
   "name": "python3"
  },
  "language_info": {
   "codemirror_mode": {
    "name": "ipython",
    "version": 3
   },
   "file_extension": ".py",
   "mimetype": "text/x-python",
   "name": "python",
   "nbconvert_exporter": "python",
   "pygments_lexer": "ipython3",
   "version": "3.12.2"
  }
 },
 "nbformat": 4,
 "nbformat_minor": 5
}
